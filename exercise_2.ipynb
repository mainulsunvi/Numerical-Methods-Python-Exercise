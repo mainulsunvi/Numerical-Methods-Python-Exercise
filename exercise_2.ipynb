{
 "cells": [
  {
   "attachments": {},
   "cell_type": "markdown",
   "metadata": {},
   "source": [
    "22. Create an array $y = \\begin{pmatrix}3 & 5 & 3\\\\2 & 2 & 5 \\\\3 & 8 & 9\\end{pmatrix}$ and calculate its transpose."
   ]
  },
  {
   "cell_type": "code",
   "execution_count": 1,
   "metadata": {},
   "outputs": [
    {
     "name": "stdout",
     "output_type": "stream",
     "text": [
      "The Transposed array is: \n",
      "[[3 2 3]\n",
      " [5 2 8]\n",
      " [3 5 9]]\n"
     ]
    }
   ],
   "source": [
    "import numpy as np \n",
    "\n",
    "Y = np.array([[3,5,3],[2,2,5],[3,8,9]])\n",
    "\n",
    "transY = np.transpose(Y)\n",
    "\n",
    "print(\"The Transposed array is: \")\n",
    "print(transY)"
   ]
  },
  {
   "attachments": {},
   "cell_type": "markdown",
   "metadata": {},
   "source": [
    "24. Create a 2 × 4 zero array"
   ]
  },
  {
   "cell_type": "code",
   "execution_count": 2,
   "metadata": {},
   "outputs": [
    {
     "name": "stdout",
     "output_type": "stream",
     "text": [
      "[[1, 1], [1, 1], [1, 1], [1, 1]]\n"
     ]
    }
   ],
   "source": [
    "import numpy as np\n",
    "\n",
    "zeros = [[1] * 2 for _ in range(4)]\n",
    "\n",
    "print(zeros)"
   ]
  },
  {
   "cell_type": "code",
   "execution_count": 10,
   "metadata": {},
   "outputs": [
    {
     "ename": "Terminator",
     "evalue": "",
     "output_type": "error",
     "traceback": [
      "\u001b[1;31m---------------------------------------------------------------------------\u001b[0m",
      "\u001b[1;31mTerminator\u001b[0m                                Traceback (most recent call last)",
      "Cell \u001b[1;32mIn[10], line 19\u001b[0m\n\u001b[0;32m     17\u001b[0m bgcolor(\u001b[39m\"\u001b[39m\u001b[39mblack\u001b[39m\u001b[39m\"\u001b[39m)\n\u001b[0;32m     18\u001b[0m \u001b[39mfor\u001b[39;00m i \u001b[39min\u001b[39;00m \u001b[39mrange\u001b[39m(\u001b[39m10000\u001b[39m):\n\u001b[1;32m---> 19\u001b[0m     goto(hearta(i)\u001b[39m*\u001b[39;49m\u001b[39m20\u001b[39;49m, heartb(i)\u001b[39m*\u001b[39;49m\u001b[39m20\u001b[39;49m)\n\u001b[0;32m     20\u001b[0m     \u001b[39mfor\u001b[39;00m j \u001b[39min\u001b[39;00m \u001b[39mrange\u001b[39m(\u001b[39m5\u001b[39m):\n\u001b[0;32m     21\u001b[0m         color(\u001b[39m\"\u001b[39m\u001b[39m#0096FF\u001b[39m\u001b[39m\"\u001b[39m)\n",
      "File \u001b[1;32m<string>:5\u001b[0m, in \u001b[0;36mgoto\u001b[1;34m(x, y)\u001b[0m\n",
      "\u001b[1;31mTerminator\u001b[0m: "
     ]
    }
   ],
   "source": [
    "import math\n",
    "from turtle import *\n",
    "\n",
    "\n",
    "def hearta(k):\n",
    "    return 15*math.sin(k)**3\n",
    "\n",
    "\n",
    "def heartb(k):\n",
    "    return 12*math.cos(k)-5 *\\\n",
    "        math.cos(2*k)-2 *\\\n",
    "        math.cos(3*k) -\\\n",
    "        math.cos(4*k)\n",
    "\n",
    "\n",
    "speed(0)\n",
    "bgcolor(\"black\")\n",
    "for i in range(10000):\n",
    "    goto(hearta(i)*20, heartb(i)*20)\n",
    "    for j in range(5):\n",
    "        color(\"#0096FF\")\n",
    "    goto(0, 0)\n",
    "done()\n"
   ]
  }
 ],
 "metadata": {
  "kernelspec": {
   "display_name": "Python 3",
   "language": "python",
   "name": "python3"
  },
  "language_info": {
   "codemirror_mode": {
    "name": "ipython",
    "version": 3
   },
   "file_extension": ".py",
   "mimetype": "text/x-python",
   "name": "python",
   "nbconvert_exporter": "python",
   "pygments_lexer": "ipython3",
   "version": "3.11.1"
  },
  "orig_nbformat": 4,
  "vscode": {
   "interpreter": {
    "hash": "5238573367df39f7286bb46f9ff5f08f63a01a80960060ce41e3c79b190280fa"
   }
  }
 },
 "nbformat": 4,
 "nbformat_minor": 2
}
