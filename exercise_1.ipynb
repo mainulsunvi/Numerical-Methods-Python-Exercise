{
 "cells": [
  {
   "cell_type": "markdown",
   "id": "38b0b59d",
   "metadata": {},
   "source": [
    "5.  Compute the area of a triangle with base 10 and height 12. Recall that the area of a triangle is half the base times the height"
   ]
  },
  {
   "cell_type": "code",
   "execution_count": 3,
   "id": "733da6d9",
   "metadata": {},
   "outputs": [
    {
     "name": "stdout",
     "output_type": "stream",
     "text": [
      "The area is:  60.0\n"
     ]
    }
   ],
   "source": [
    "\n",
    "area = 1/2 * 10 * 12\n",
    "\n",
    "print(\"The area is: \", area)\n"
   ]
  },
  {
   "cell_type": "markdown",
   "id": "3ff6eb11",
   "metadata": {},
   "source": [
    "6. Compute the surface area and volume of a cylinder with radius $5$ and height $3$"
   ]
  },
  {
   "cell_type": "code",
   "execution_count": 7,
   "id": "beb920e4",
   "metadata": {},
   "outputs": [
    {
     "name": "stdout",
     "output_type": "stream",
     "text": [
      "The Surface is: 251.32741228718345\n"
     ]
    }
   ],
   "source": [
    "\n",
    "from math import pi\n",
    "\n",
    "r = 5\n",
    "h = 3\n",
    "\n",
    "s = (2 * pi * r * h) + (2*pi*r**2)\n",
    "\n",
    "print(\"The Surface is:\", s)\n"
   ]
  },
  {
   "cell_type": "markdown",
   "id": "e0704c13",
   "metadata": {},
   "source": [
    "7. Compute the slope between the points $(3, 4)$ and $(5, 9)$. Recall that the slope between points\n",
    "$(x1, y1)$ and $(x2, y2)$ is $$\\frac{y2-y1}{x2-x1}$$"
   ]
  },
  {
   "cell_type": "code",
   "execution_count": 11,
   "id": "5b367a0c",
   "metadata": {},
   "outputs": [
    {
     "name": "stdout",
     "output_type": "stream",
     "text": [
      "The slope is: 2.5\n",
      "The distance is: 5.385164807134504\n"
     ]
    }
   ],
   "source": [
    "\n",
    "from math import sqrt\n",
    "\n",
    "x1, y1 = [3, 4]\n",
    "\n",
    "x2, y2 = [5, 9]\n",
    "\n",
    "slope = (y2-y1)/(x2-x1)\n",
    "\n",
    "print(\"The slope is:\", slope)\n"
   ]
  },
  {
   "cell_type": "markdown",
   "id": "6343287c",
   "metadata": {},
   "source": [
    "8. Compute the distance between the points $(3, 4)$ and $(5, 9)$, Recall that the distance between points\n",
    "in two dimensions is $\\sqrt{(x2-x1)^{2}+(y2-y1)^{2}}$"
   ]
  },
  {
   "cell_type": "code",
   "execution_count": 1,
   "id": "32f439c0",
   "metadata": {},
   "outputs": [
    {
     "name": "stdout",
     "output_type": "stream",
     "text": [
      "The distance is: 5.385164807134504\n"
     ]
    }
   ],
   "source": [
    "from math import sqrt\n",
    "\n",
    "x1, y1 = [3, 4]\n",
    "\n",
    "x2, y2 = [5, 9]\n",
    "\n",
    "distance = sqrt((x2-x1)**2+(y2-y1)**2)\n",
    "\n",
    "print(\"The distance is:\", distance)\n"
   ]
  },
  {
   "cell_type": "markdown",
   "id": "c9d0fed9",
   "metadata": {},
   "source": [
    "9. Use Python’s factorial function to compute $6!$"
   ]
  },
  {
   "cell_type": "code",
   "execution_count": 1,
   "id": "2e58db4f",
   "metadata": {},
   "outputs": [
    {
     "name": "stdout",
     "output_type": "stream",
     "text": [
      "Factorial of 6 is: 720\n"
     ]
    }
   ],
   "source": [
    "\n",
    "from math import factorial as fact\n",
    "\n",
    "print(\"Factorial of 6 is:\", fact(6))\n"
   ]
  },
  {
   "cell_type": "markdown",
   "id": "3da9510f",
   "metadata": {},
   "source": [
    "10. Although a year is considered to be 365 days long, a more exact figure is 365.24 days. As a\n",
    "consequence, if we held to the standard 365-day year, we would gradually lose that fraction of the\n",
    "day over time, and seasons and other astronomical events would not occur as expected. To keep\n",
    "the timescale on tract, a leap year is a year that includes an extra day, February 29, to keep the\n",
    "timescale on track. Leap years occur on years that are exactly divisible by 4, unless it is exactly\n",
    "divisible by 100, unless it is divisible by 400. For example, the year 2004 is a leap year, the year\n",
    "1900 is not a leap year, and the year 2000 is a leap year. Compute the number of leap years between\n",
    "the years 1500 and 2010."
   ]
  },
  {
   "cell_type": "code",
   "execution_count": 12,
   "id": "fcab3cca",
   "metadata": {},
   "outputs": [
    {
     "name": "stdout",
     "output_type": "stream",
     "text": [
      "The number of leap years are:  124\n"
     ]
    }
   ],
   "source": [
    "\n",
    "years = 0\n",
    "for i in range(1500, 2010):\n",
    "\tif (((i % 400 == 0) and (i % 100 == 0)) or ((i % 4 == 0) and (i%100 != 0))):\n",
    "\t\tyears += 1\n",
    "\n",
    "print(\"The number of leap years are: \", years)\n"
   ]
  },
  {
   "cell_type": "markdown",
   "id": "42f327ac",
   "metadata": {},
   "source": [
    "11. A very powerful approximation for π was developed by a brilliant mathematician named Srinivasa Ramanujan. The approximation is the following: $$\\frac{1}{\\pi} \\approx \\frac{2\\sqrt{2}}{9801}\\sum_{k=0}^{N}\\frac{(4k)!(1103+26390k)}{(k!)^{4}396^{4k}}$$ <br> Use Ramanujan’s formula for $N = 0 \\hspace{5px} \\& \\hspace{5px} N = 1$ to approximate $\\pi$. Compare your approximation\n",
    "with Python’s stored value for $\\pi$. Hint: $0! = 1$ by definition."
   ]
  },
  {
   "cell_type": "code",
   "execution_count": 2,
   "id": "d789a808",
   "metadata": {},
   "outputs": [
    {
     "name": "stdout",
     "output_type": "stream",
     "text": [
      "True\n"
     ]
    }
   ],
   "source": [
    "\n",
    "import math\n",
    "\n",
    "SUM = 0\n",
    "\n",
    "LHS = 1/math.pi\n",
    "\n",
    "for k in range(0, 2):\n",
    "\n",
    "    eqn1 = ((2 * math.sqrt(2))/9801)\n",
    "    eqn2 = (math.factorial(4*k) * (1103+26390*k))\n",
    "    eqn3 = ((math.factorial(k)**4)*396**(4*k))\n",
    "\n",
    "    RHS = eqn1 * eqn2 / eqn3\n",
    "\n",
    "    SUM = SUM + RHS\n",
    "\n",
    "\n",
    "print(math.isclose(LHS, SUM))\n"
   ]
  },
  {
   "cell_type": "markdown",
   "id": "b6003ddc",
   "metadata": {},
   "source": [
    "12. The hyperbolic sin or sinh is defined in terms of exponentials as $\\sinh(x) = \\frac{\\exp(x)−\\exp(−x)}{2}$. \n",
    "Compute $\\sinh$ for $x = 2$ using exponentials. Verify that the result is indeed the hyperbolic sin using Python’s\n",
    "function $\\sinh$ in the math module."
   ]
  },
  {
   "cell_type": "code",
   "execution_count": 27,
   "id": "b710d53a",
   "metadata": {},
   "outputs": [
    {
     "name": "stdout",
     "output_type": "stream",
     "text": [
      "False\n"
     ]
    }
   ],
   "source": [
    "\n",
    "x = 2\n",
    "\n",
    "LHS = (math.exp(x)-math.exp(-x))/2\n",
    "\n",
    "RHS = math.sinh(x)\n",
    "\n",
    "print(LHS == RHS)"
   ]
  },
  {
   "cell_type": "markdown",
   "id": "efcb0137",
   "metadata": {},
   "source": [
    "13. Verify that $\\sin^{2}(x) + \\cos^2(x) = 1$ for $x = \\pi, \\frac{\\pi}{2}, \\frac{\\pi}{4}, \\frac{\\pi}{6}$"
   ]
  },
  {
   "cell_type": "code",
   "execution_count": 50,
   "id": "12abcb38",
   "metadata": {},
   "outputs": [],
   "source": [
    "\n",
    "import numpy as np\n",
    "\n"
   ]
  },
  {
   "cell_type": "markdown",
   "id": "9637d64e",
   "metadata": {},
   "source": [
    "14. Compute the $\\sin 87^{\\circ}$."
   ]
  },
  {
   "cell_type": "code",
   "execution_count": 3,
   "id": "fb157bc0",
   "metadata": {},
   "outputs": [
    {
     "name": "stdout",
     "output_type": "stream",
     "text": [
      "0.9986295347545738\n"
     ]
    }
   ],
   "source": [
    "\n",
    "result = math.sin(math.radians(87))\n",
    "\n",
    "print(result)"
   ]
  },
  {
   "cell_type": "markdown",
   "id": "a60a06b4",
   "metadata": {},
   "source": [
    "15. Write a Python statement that generates the following error: “AttributeError: module ‘math’ has\n",
    "no attribute ‘sni’.” Hint: sni is a misspelling of the function sin."
   ]
  },
  {
   "cell_type": "code",
   "execution_count": 56,
   "id": "70bab70e",
   "metadata": {},
   "outputs": [
    {
     "ename": "AttributeError",
     "evalue": "module 'math' has no attribute 'sni'",
     "output_type": "error",
     "traceback": [
      "\u001b[1;31m---------------------------------------------------------------------------\u001b[0m",
      "\u001b[1;31mAttributeError\u001b[0m                            Traceback (most recent call last)",
      "Cell \u001b[1;32mIn[56], line 3\u001b[0m\n\u001b[0;32m      1\u001b[0m \u001b[39m# 15\u001b[39;00m\n\u001b[1;32m----> 3\u001b[0m math\u001b[39m.\u001b[39;49msni \n",
      "\u001b[1;31mAttributeError\u001b[0m: module 'math' has no attribute 'sni'"
     ]
    }
   ],
   "source": [
    "\n",
    "math.sni "
   ]
  },
  {
   "cell_type": "markdown",
   "id": "1a273ed2",
   "metadata": {},
   "source": [
    "16. Write a Python statement that generates the following error: “TypeError: sin() takes exactly one\n",
    "argument (0 given).” Hint: Input arguments refers to the input of a function (any function); for\n",
    "example, the input in sin(π/2) is π/2."
   ]
  },
  {
   "cell_type": "code",
   "execution_count": 58,
   "id": "7e7675ba",
   "metadata": {},
   "outputs": [
    {
     "ename": "TypeError",
     "evalue": "math.sin() takes exactly one argument (0 given)",
     "output_type": "error",
     "traceback": [
      "\u001b[1;31m---------------------------------------------------------------------------\u001b[0m",
      "\u001b[1;31mTypeError\u001b[0m                                 Traceback (most recent call last)",
      "Cell \u001b[1;32mIn[58], line 3\u001b[0m\n\u001b[0;32m      1\u001b[0m \u001b[39m# 16\u001b[39;00m\n\u001b[1;32m----> 3\u001b[0m math\u001b[39m.\u001b[39;49msin()\n",
      "\u001b[1;31mTypeError\u001b[0m: math.sin() takes exactly one argument (0 given)"
     ]
    }
   ],
   "source": [
    "\n",
    "math.sin()"
   ]
  },
  {
   "cell_type": "code",
   "execution_count": 60,
   "id": "b7c57737",
   "metadata": {},
   "outputs": [
    {
     "name": "stdout",
     "output_type": "stream",
     "text": [
      "False\n"
     ]
    }
   ],
   "source": [
    "# 17\n",
    "\n",
    "P = False\n",
    "\n",
    "expr = P and not P\n",
    "\n",
    "print(expr)"
   ]
  },
  {
   "cell_type": "markdown",
   "id": "b8ce99f8",
   "metadata": {},
   "source": [
    "23. Do the following calculation at the Python command prompt:\n",
    "$$e^{2}\\sin(\\frac{\\pi}{6})+\\log_e(3)\\cos(\\frac{\\pi}{9})-5^3$$"
   ]
  },
  {
   "cell_type": "code",
   "execution_count": 61,
   "id": "60c13d69",
   "metadata": {},
   "outputs": [
    {
     "name": "stdout",
     "output_type": "stream",
     "text": [
      "-120.27311408976854\n"
     ]
    }
   ],
   "source": [
    "# 23\n",
    "\n",
    "import math \n",
    "\n",
    "expr = (math.exp(2) * math.sin(math.pi/6)) + (math.log(3) * math.cos(math.pi/9)) - 5**3 \n",
    "\n",
    "print(expr)"
   ]
  }
 ],
 "metadata": {
  "kernelspec": {
   "display_name": "Python 3 (ipykernel)",
   "language": "python",
   "name": "python3"
  },
  "language_info": {
   "codemirror_mode": {
    "name": "ipython",
    "version": 3
   },
   "file_extension": ".py",
   "mimetype": "text/x-python",
   "name": "python",
   "nbconvert_exporter": "python",
   "pygments_lexer": "ipython3",
   "version": "3.11.1"
  },
  "vscode": {
   "interpreter": {
    "hash": "5238573367df39f7286bb46f9ff5f08f63a01a80960060ce41e3c79b190280fa"
   }
  }
 },
 "nbformat": 4,
 "nbformat_minor": 5
}
